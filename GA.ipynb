{
 "cells": [
  {
   "cell_type": "markdown",
   "metadata": {},
   "source": [
    "# Machine Data and Learning\n",
    "# Assignment 3 [ Team 37 ]\n",
    "\n",
    "``` \n",
    "Avani Gupta (2019121004)\n",
    "Bhuvanesh Sridharan (2018113002)\n",
    "```\n",
    "\n"
   ]
  },
  {
   "cell_type": "markdown",
   "metadata": {},
   "source": [
    "### Fitness Function used:\n",
    "\n",
    "Over the course of the evolution of the population, we had changed out fitness functions a few times depending on where our vectors were converging to.\n",
    "Some of the fitness function used were:\n",
    "\n",
    "Let us denote the Train error as $T$ and Validation error as $V$.\n",
    "\n",
    "1. $-(V + | T -V |)$\n",
    "    - To reduce the error while making sure that the GA does not overfit to the Validation dataset.\n",
    "    \n",
    "2. $ -(T + | T-V|)$\n",
    "    - To focus on decreasing the train error with higher priority than validation error.\n",
    "    - This would give the same performance as 1.\n",
    "\n",
    "3. $ -(V + 2 \\times |T-V|) $\n",
    "    - To penalise the difference of $T$ and $V$ more such that they remain closer together.\n",
    "    \n",
    "4. $ - ( V + T + |T - V|) $\n",
    "    - This would be the perfect fitness measure such that both Errors decrease and their difference is in control as well.\n",
    "    - Though it was harder for the population to evolve using this fitness function since it hopes everything to go well together at the same time."
   ]
  },
  {
   "cell_type": "markdown",
   "metadata": {},
   "source": [
    "## Crossover functions used by us:\n",
    "\n",
    "The function breed_parents takes two parents as an argument and returns two children:\n",
    "\n",
    "We mainly used two combination functions to mate two chromosomes.\n",
    "\n",
    "1. Whole Arithmetic Combination\n",
    "2. Uniform Combination\n",
    "\n",
    "### Code for Whole Arithmetic Combination:\n",
    "\n",
    "Takes the weighted mean of both the vectors and returns two children based on the parameter $\\alpha$\n",
    "\n",
    "+ This was used in the beginning since we didn't know how rough the surface was.\n",
    "+ This was useful in the beginning to converge fastly but this approach gets saturated quite soon because the system seems to be very spikey so we had to change our approach.\n"
   ]
  },
  {
   "cell_type": "code",
   "execution_count": null,
   "metadata": {},
   "outputs": [],
   "source": [
    "    def breed_parents(self, alpha, p1, p2):\n",
    "        \"\"\"\n",
    "        crosses over two chromosomes of p1 and p2 by Whole Arithmetic Combination method\n",
    "        \n",
    "        Returns:\n",
    "        Two chromosomes c1 and c2\n",
    "        \"\"\"\n",
    "        c1 = alpha*p1 + (1-alpha)*p2\n",
    "        c2 = alpha*p2 + (1-alpha)*p1\n",
    "        parents = np.array([p1,p2])\n",
    "        return np.array([c1, c2])\n"
   ]
  },
  {
   "cell_type": "markdown",
   "metadata": {},
   "source": [
    "### Code for Uniform Combination:\n",
    "   \n",
    "   + Randomly switches genes of two chromosomes and returns 2 new chromosomes.\n",
    "   + Particulary useful in systems where even small changes in parameters lead to a lot of change in accuracy."
   ]
  },
  {
   "cell_type": "code",
   "execution_count": null,
   "metadata": {},
   "outputs": [],
   "source": [
    "    def breed_parents(self, alpha, p1, p2):\n",
    "        \"\"\"\n",
    "        crosses over two chromosomes of p1 and p2 by Uniform Combination method\n",
    "        \n",
    "        Returns:\n",
    "        Two chromosomes c1 and c2\n",
    "        \"\"\"\n",
    "        c1 = np.zeros((1, self.num_params))\n",
    "        c2 = np.zeros((1, self.num_params))\n",
    "        parents = np.array([p1,p2])\n",
    "        for i in range(len(p1)):\n",
    "            choose = np.random.randint(0,2)\n",
    "            c1[i] = parents[choose][i]\n",
    "            c2[i] = parents[1-choose][i]\n",
    "        \n",
    "        return np.array([c1, c2])\n"
   ]
  },
  {
   "cell_type": "markdown",
   "metadata": {},
   "source": [
    "## Mutation function used by us:"
   ]
  },
  {
   "cell_type": "markdown",
   "metadata": {},
   "source": [
    "For mutation, we have two parameters mutation_probabilty and mutation_magnitude.\n",
    "\n",
    "**mutation_prob** : How many genes in the chromosome will be altered.\n",
    "\n",
    "**mutation_mag** : How large would the magnitude of mutation be."
   ]
  },
  {
   "cell_type": "code",
   "execution_count": null,
   "metadata": {},
   "outputs": [],
   "source": [
    " def mutate(self, pop, prob, mag):\n",
    "        \"\"\"\n",
    "        mutates the population by magnitude mag with probability = prob\n",
    "        \n",
    "        returns:\n",
    "        Mutated Population\n",
    "        \"\"\"\n",
    "        for i in range(len(pop)):\n",
    "                for j in range(11):\n",
    "                    if np.random.random() < prob:\n",
    "                        pop[i][j] = pop[i][j] * (np.random.normal(0,mag) + 1)\n",
    "                        #pop[i][j] = pop[i][j] * np.random.uniform(1-mag,1+mag)\n",
    "                for j in range(len(pop[i])):\n",
    "                    if pop[i][j] > self.param_range[1]:\n",
    "                        pop[i][j] = self.param_range[1]\n",
    "                    if pop[i][j] < self.param_range[0]:\n",
    "                        pop[i][j] = self.param_range[0]\n",
    "        return pop\n",
    "    "
   ]
  },
  {
   "cell_type": "markdown",
   "metadata": {},
   "source": [
    "#### Additional Comments about mutation: \n",
    "\n",
    "+ Initially instead of a percentage increase or decrease kind of mutation we added a value proportional to the order of magnitude of the parameter. So that we get closer to the optimum faster.\n",
    "\n",
    "ie:\n",
    "$$\n",
    "    vec[i] = vec[i] + (random\\_value \\in (-1,1)) \\times log_{10}vec[i]\n",
    "$$\n",
    "\n",
    "+ Later when the absolute mutation was not rendering any results by overshooting the optimal value, we started to have a percentage based mutation.\n",
    "\n",
    "+ We majorly used mutation by taking a value from Gaussian distribution.:\n",
    "\n",
    "```python  \n",
    "    vec[i] = vec[i] * (1 + np.random.normal(0,mag))\n",
    "```\n",
    "\n",
    "+ Sometimes when the population was seemed to get stuck, we used uniform distribution error as well.\n",
    "\n",
    "```python  \n",
    "    vec[i] = vec[i] * (1 + np.random.uniform(-mag,mag))\n",
    "```"
   ]
  },
  {
   "cell_type": "markdown",
   "metadata": {},
   "source": [
    "### Information about Hyperparameters:\n",
    "\n",
    "+ **Population size:** We have used a population size of 8, 16, 32, 64 at various points in the due course of this assignment.\n",
    "    + We used small sizes when we were trying out new methods and approaches from the beginning.\n",
    "    + 32, 64 when we were confident of the approach and just wanted a larger pool size to speed up the process and have diversity.\n",
    "\n",
    "+ **$\\alpha$** while using Whole Arithmetic Combination: 0.33 so that the children are equally spaced out from the parents. Even though we didn't use this method of combination beyond a few generations. \n",
    "\n",
    "+ **Generations to converge:** "
   ]
  }
 ],
 "metadata": {
  "kernelspec": {
   "display_name": "Python 3",
   "language": "python",
   "name": "python3"
  },
  "language_info": {
   "codemirror_mode": {
    "name": "ipython",
    "version": 3
   },
   "file_extension": ".py",
   "mimetype": "text/x-python",
   "name": "python",
   "nbconvert_exporter": "python",
   "pygments_lexer": "ipython3",
   "version": "3.7.6"
  }
 },
 "nbformat": 4,
 "nbformat_minor": 4
}
